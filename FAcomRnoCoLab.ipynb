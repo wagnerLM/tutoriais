{
  "nbformat": 4,
  "nbformat_minor": 0,
  "metadata": {
    "colab": {
      "name": "FAcomRnoCoLab.ipynb",
      "version": "0.3.2",
      "provenance": [],
      "include_colab_link": true
    },
    "kernelspec": {
      "name": "python3",
      "display_name": "Python 3"
    }
  },
  "cells": [
    {
      "cell_type": "markdown",
      "metadata": {
        "id": "view-in-github",
        "colab_type": "text"
      },
      "source": [
        "<a href=\"https://colab.research.google.com/github/wagnerLM/tutoriais/blob/master/FAcomRnoCoLab.ipynb\" target=\"_parent\"><img src=\"https://colab.research.google.com/assets/colab-badge.svg\" alt=\"Open In Colab\"/></a>"
      ]
    },
    {
      "cell_type": "code",
      "metadata": {
        "id": "NE4lLjnGbY4I",
        "colab_type": "code",
        "colab": {}
      },
      "source": [
        "import rpy2\n",
        "%load_ext rpy2.ipython"
      ],
      "execution_count": 0,
      "outputs": []
    },
    {
      "cell_type": "code",
      "metadata": {
        "id": "x11OyVHNbvUR",
        "colab_type": "code",
        "colab": {
          "base_uri": "https://localhost:8080/",
          "height": 34
        },
        "outputId": "5451e07e-4d3b-4e20-98ef-d5cb9c6a6e74"
      },
      "source": [
        "%%R\n",
        "x <- 42\n",
        "print(x)"
      ],
      "execution_count": 2,
      "outputs": [
        {
          "output_type": "display_data",
          "data": {
            "text/plain": [
              "[1] 42\n"
            ]
          },
          "metadata": {
            "tags": []
          }
        }
      ]
    },
    {
      "cell_type": "code",
      "metadata": {
        "id": "tq575LKNb0nG",
        "colab_type": "code",
        "colab": {
          "base_uri": "https://localhost:8080/",
          "height": 1292
        },
        "outputId": "96690760-0740-4489-897c-55ff04c73f02"
      },
      "source": [
        "%%R\n",
        "install.packages(\"psych\")\n",
        "library(psych)\n",
        "ESV<-read.csv(\"https://raw.githubusercontent.com/wagnerLM/SBP/master/ESV.csv\",sep=\";\")\n",
        "fa(ESV[1:5],1,cor=\"poly\")\n"
      ],
      "execution_count": 3,
      "outputs": [
        {
          "output_type": "stream",
          "text": [
            "/usr/local/lib/python3.6/dist-packages/rpy2/rinterface/__init__.py:146: RRuntimeWarning: Installing package into ‘/usr/local/lib/R/site-library’\n",
            "(as ‘lib’ is unspecified)\n",
            "\n",
            "  warnings.warn(x, RRuntimeWarning)\n",
            "/usr/local/lib/python3.6/dist-packages/rpy2/rinterface/__init__.py:146: RRuntimeWarning: also installing the dependency ‘mnormt’\n",
            "\n",
            "\n",
            "  warnings.warn(x, RRuntimeWarning)\n",
            "/usr/local/lib/python3.6/dist-packages/rpy2/rinterface/__init__.py:146: RRuntimeWarning: trying URL 'https://cran.rstudio.com/src/contrib/mnormt_1.5-5.tar.gz'\n",
            "\n",
            "  warnings.warn(x, RRuntimeWarning)\n",
            "/usr/local/lib/python3.6/dist-packages/rpy2/rinterface/__init__.py:146: RRuntimeWarning: Content type 'application/x-gzip'\n",
            "  warnings.warn(x, RRuntimeWarning)\n",
            "/usr/local/lib/python3.6/dist-packages/rpy2/rinterface/__init__.py:146: RRuntimeWarning:  length 37169 bytes (36 KB)\n",
            "\n",
            "  warnings.warn(x, RRuntimeWarning)\n",
            "/usr/local/lib/python3.6/dist-packages/rpy2/rinterface/__init__.py:146: RRuntimeWarning: =\n",
            "  warnings.warn(x, RRuntimeWarning)\n",
            "/usr/local/lib/python3.6/dist-packages/rpy2/rinterface/__init__.py:146: RRuntimeWarning: \n",
            "\n",
            "  warnings.warn(x, RRuntimeWarning)\n",
            "/usr/local/lib/python3.6/dist-packages/rpy2/rinterface/__init__.py:146: RRuntimeWarning: downloaded 36 KB\n",
            "\n",
            "\n",
            "  warnings.warn(x, RRuntimeWarning)\n",
            "/usr/local/lib/python3.6/dist-packages/rpy2/rinterface/__init__.py:146: RRuntimeWarning: trying URL 'https://cran.rstudio.com/src/contrib/psych_1.8.12.tar.gz'\n",
            "\n",
            "  warnings.warn(x, RRuntimeWarning)\n",
            "/usr/local/lib/python3.6/dist-packages/rpy2/rinterface/__init__.py:146: RRuntimeWarning:  length 3556576 bytes (3.4 MB)\n",
            "\n",
            "  warnings.warn(x, RRuntimeWarning)\n",
            "/usr/local/lib/python3.6/dist-packages/rpy2/rinterface/__init__.py:146: RRuntimeWarning: downloaded 3.4 MB\n",
            "\n",
            "\n",
            "  warnings.warn(x, RRuntimeWarning)\n",
            "/usr/local/lib/python3.6/dist-packages/rpy2/rinterface/__init__.py:146: RRuntimeWarning: \n",
            "  warnings.warn(x, RRuntimeWarning)\n",
            "/usr/local/lib/python3.6/dist-packages/rpy2/rinterface/__init__.py:146: RRuntimeWarning: The downloaded source packages are in\n",
            "\t‘/tmp/Rtmp8IcPHv/downloaded_packages’\n",
            "  warnings.warn(x, RRuntimeWarning)\n"
          ],
          "name": "stderr"
        },
        {
          "output_type": "display_data",
          "data": {
            "text/plain": [
              "Factor Analysis using method =  minres\n",
              "Call: fa(r = ESV[1:5], nfactors = 1, cor = \"poly\")\n",
              "Standardized loadings (pattern matrix) based upon correlation matrix\n",
              "      MR1   h2   u2 com\n",
              "ESV1 0.87 0.75 0.25   1\n",
              "ESV2 0.83 0.69 0.31   1\n",
              "ESV3 0.92 0.85 0.15   1\n",
              "ESV4 0.82 0.67 0.33   1\n",
              "ESV5 0.72 0.52 0.48   1\n",
              "\n",
              "                MR1\n",
              "SS loadings    3.49\n",
              "Proportion Var 0.70\n",
              "\n",
              "Mean item complexity =  1\n",
              "Test of the hypothesis that 1 factor is sufficient.\n",
              "\n",
              "The degrees of freedom for the null model are  10  and the objective function was  3.67 FALSE with Chi Square of  1806.7\n",
              "The degrees of freedom for the model are 5  and the objective function was  0.04 \n",
              " FALSE\n",
              "The root mean square of the residuals (RMSR) is  0.02 \n",
              "The df corrected root mean square of the residuals is  0.03 \n",
              " FALSE\n",
              "The harmonic number of observations is  496 with the empirical chi square  5.62  with prob <  0.34 \n",
              " FALSEThe total number of observations was  496  with Likelihood Chi Square =  21.83  with prob <  0.00056 \n",
              " FALSE\n",
              "Tucker Lewis Index of factoring reliability =  0.981\n",
              "RMSEA index =  0.083  and the 90 % confidence intervals are  0.049 0.119 FALSE\n",
              "BIC =  -9.2\n",
              "Fit based upon off diagonal values = 1\n",
              "Measures of factor score adequacy             \n",
              "                                                   MR1\n",
              "Correlation of (regression) scores with factors   0.97\n",
              "Multiple R square of scores with factors          0.93\n",
              "Minimum correlation of possible factor scores     0.87\n"
            ]
          },
          "metadata": {
            "tags": []
          }
        }
      ]
    },
    {
      "cell_type": "code",
      "metadata": {
        "id": "WkxSJokEcPXS",
        "colab_type": "code",
        "colab": {}
      },
      "source": [
        ""
      ],
      "execution_count": 0,
      "outputs": []
    }
  ]
}