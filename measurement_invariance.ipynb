{
  "nbformat": 4,
  "nbformat_minor": 0,
  "metadata": {
    "colab": {
      "name": "measurement_invariance.ipynb",
      "provenance": []
    },
    "kernelspec": {
      "name": "python3",
      "display_name": "Python 3"
    }
  },
  "cells": [
    {
      "cell_type": "code",
      "metadata": {
        "id": "uCOzKV4yq7Ox",
        "colab_type": "code",
        "colab": {}
      },
      "source": [
        "import rpy2\n",
        "%load_ext rpy2.ipython"
      ],
      "execution_count": 0,
      "outputs": []
    },
    {
      "cell_type": "code",
      "metadata": {
        "id": "8kET5j7yrF2N",
        "colab_type": "code",
        "colab": {}
      },
      "source": [
        "%%R\n",
        "# instalando os pacotes necessarios, incluind a versao de desenvolvedor do semtools\n",
        "install.packages(\"devtools\")\n",
        "library(devtools)\n",
        "devtools::install_github(\"simsem/semTools/semTools\")\n",
        "library(semTools)\n",
        "install.packages(\"lavaan\")\n",
        "library(lavaan)"
      ],
      "execution_count": 0,
      "outputs": []
    },
    {
      "cell_type": "code",
      "metadata": {
        "id": "GxQA0w64rJca",
        "colab_type": "code",
        "colab": {}
      },
      "source": [
        "%%R\n",
        "# Exemplo: DASS21, instrumento para avaliacao de afetos negativos (estresse, depressao e ansiedade)\n",
        "# Disponivel em http://www2.psy.unsw.edu.au/dass/Portuguese/DASS%2021%20Brazilian%20Portuguese%20Tucci.pdf\n",
        "# Amostra: como descrita em http://www.scielo.br/scielo.php?script=sci_arttext&pid=S1413-82712015000200259 \n",
        "\n",
        "# carregando o banco de dados\n",
        "fdass<-read.csv(\"https://raw.githubusercontent.com/wagnerLM/tutoriais/master/dassmgroup\",sep=\";\")\n",
        "# visualizando o banco de dados\n",
        "#View(fdass)\n",
        "\n",
        "# definindo o modelo (fatores e itens) \n",
        "dass.model<-'Stress =~ DASS1 + DASS6 + DASS8 + DASS11 + DASS12 + DASS14 + DASS18\n",
        "Anxiety =~ DASS2 + DASS4 + DASS7 + DASS9 + DASS15 + DASS19 + DASS20\n",
        "Depression =~ DASS3 + DASS5 + DASS10 + DASS13 + DASS16 + DASS17 + DASS21\n",
        "'\n",
        "# estimando o ajuste do modelo aos dados\n",
        "fdass.fit<-cfa(dass.model,fdass,estimator = \"WLSMV\",ordered = colnames(fdass[,-1]))\n",
        "summary(fdass.fit,fit.measures=T,standardized=T)\n",
        "\n",
        "# calculando a fidedignidade dos fatores por meio do Õmega de McDonald\n",
        "reliability(fdass.fit)\n",
        "\n",
        "# estimando o modelo de invariância entre grupos\n",
        "# a funcao estima quatro modelos de invariancia\n",
        "# configural (fatores)\n",
        "# interceptos/thresholds\n",
        "# loadings (cargas fatoriais)\n",
        "# mean (medias)\n",
        "# a invariancia dos termos de erro tambem pode ser estimada, modificando a funcao (ver ?measurementInvariance)\n",
        "fdassmg.fit<-measurementInvariance(model=dass.model,data=fdass,group=\"gender\",estimator = \"WLSMV\",ordered = \n",
        "                                     colnames(fdass[,-1]),method=\"satorra.bentler.2010\")\n",
        "# estatísticas para cada grupo\n",
        "fdassmg.fit\n",
        "\n",
        "# essa funcao apresenta algumas limitacoes para itens ordinais ou dicotomicos, sendo indicada a funcao atualizada abaixo\n",
        "# usando a funcao measEq.syntax, voce pode criar modelos fixando diferentes parametros entre os grupos\n",
        "# caso queira testar a diferenca entre os modelos, use a funcao 'lavTestLRT'\n",
        "fdassmg.fit_inv <- measEq.syntax(configural.model = dass.model,\n",
        "                                      data = fdass,\n",
        "                                      ordered = colnames(fdass[,-1]),\n",
        "                                      parameterization = \"delta\",\n",
        "                                      ID.fac = \"std.lv\",\n",
        "                                      ID.cat = \"Wu.Estabrook.2016\",\n",
        "                                      group = \"gender\",\n",
        "                                      group.equal = c(\"configural\",\"thresholds\",\"loadings\"))\n",
        "\n",
        "model.inv <- as.character(fdassmg.fit_inv)\n",
        "\n",
        "fdassmg.fit2 <- cfa(model.inv, data = fdass, group = \"gender\",\n",
        "                    ordered =colnames(fdass[,-1]))\n",
        "summary(fdassmg.fit2,fit.measures=T)\n",
        "\n",
        "# um artigo ótimo sobre o tema foi indicado pelo Leo Martins (https://www.facebook.com/leofer.martins?comment_id=Y29tbWVudDoyNTUyMTA3NjkxNTg1MDM0XzI1Njk0OTgwNjMxNzkzMzA%3D)\n",
        "# https://sci-hub.tw/10.1080/10705511.2019.1602776"
      ],
      "execution_count": 0,
      "outputs": []
    }
  ]
}